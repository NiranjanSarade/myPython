{
 "cells": [
  {
   "cell_type": "code",
   "execution_count": 1,
   "id": "0162e11d",
   "metadata": {},
   "outputs": [
    {
     "data": {
      "text/plain": [
       "Timestamp('2020-09-13 00:00:00')"
      ]
     },
     "execution_count": 1,
     "metadata": {},
     "output_type": "execute_result"
    }
   ],
   "source": [
    "#https://towardsdatascience.com/20-points-to-master-pandas-time-series-analysis-f90155ee0e8a\n",
    "import pandas as pd\n",
    "pd.to_datetime('2020-9-13')"
   ]
  },
  {
   "cell_type": "code",
   "execution_count": 2,
   "id": "02c67e34",
   "metadata": {},
   "outputs": [
    {
     "data": {
      "text/plain": [
       "Timestamp('2020-09-13 00:00:00')"
      ]
     },
     "execution_count": 2,
     "metadata": {},
     "output_type": "execute_result"
    }
   ],
   "source": [
    "pd.Timestamp('2020-9-13')"
   ]
  },
  {
   "cell_type": "code",
   "execution_count": 5,
   "id": "6545b90d",
   "metadata": {},
   "outputs": [
    {
     "data": {
      "text/plain": [
       "'Sunday'"
      ]
     },
     "execution_count": 5,
     "metadata": {},
     "output_type": "execute_result"
    }
   ],
   "source": [
    "a = pd.Timestamp('2020-9-13')\n",
    "a.day_name()"
   ]
  },
  {
   "cell_type": "code",
   "execution_count": 6,
   "id": "0d20277f",
   "metadata": {},
   "outputs": [
    {
     "data": {
      "text/plain": [
       "'September'"
      ]
     },
     "execution_count": 6,
     "metadata": {},
     "output_type": "execute_result"
    }
   ],
   "source": [
    "a.month_name()"
   ]
  },
  {
   "cell_type": "code",
   "execution_count": 7,
   "id": "1720511d",
   "metadata": {},
   "outputs": [
    {
     "data": {
      "text/plain": [
       "[13, 9, 2020]"
      ]
     },
     "execution_count": 7,
     "metadata": {},
     "output_type": "execute_result"
    }
   ],
   "source": [
    "[a.day,a.month,a.year]"
   ]
  },
  {
   "cell_type": "code",
   "execution_count": 8,
   "id": "14546422",
   "metadata": {},
   "outputs": [
    {
     "data": {
      "text/plain": [
       "[True, True, False, 40]"
      ]
     },
     "execution_count": 8,
     "metadata": {},
     "output_type": "execute_result"
    }
   ],
   "source": [
    "b = pd.Timestamp('2020-9-30')\n",
    "[b.is_month_end, b.is_leap_year, b.is_quarter_start, b.weekofyear]"
   ]
  },
  {
   "cell_type": "code",
   "execution_count": 14,
   "id": "100d16a7",
   "metadata": {},
   "outputs": [
    {
     "data": {
      "text/html": [
       "<div>\n",
       "<style scoped>\n",
       "    .dataframe tbody tr th:only-of-type {\n",
       "        vertical-align: middle;\n",
       "    }\n",
       "\n",
       "    .dataframe tbody tr th {\n",
       "        vertical-align: top;\n",
       "    }\n",
       "\n",
       "    .dataframe thead th {\n",
       "        text-align: right;\n",
       "    }\n",
       "</style>\n",
       "<table border=\"1\" class=\"dataframe\">\n",
       "  <thead>\n",
       "    <tr style=\"text-align: right;\">\n",
       "      <th></th>\n",
       "      <th>Year</th>\n",
       "      <th>Month</th>\n",
       "      <th>Day</th>\n",
       "    </tr>\n",
       "  </thead>\n",
       "  <tbody>\n",
       "    <tr>\n",
       "      <th>0</th>\n",
       "      <td>2020</td>\n",
       "      <td>4</td>\n",
       "      <td>13</td>\n",
       "    </tr>\n",
       "    <tr>\n",
       "      <th>1</th>\n",
       "      <td>2020</td>\n",
       "      <td>5</td>\n",
       "      <td>16</td>\n",
       "    </tr>\n",
       "    <tr>\n",
       "      <th>2</th>\n",
       "      <td>2020</td>\n",
       "      <td>8</td>\n",
       "      <td>20</td>\n",
       "    </tr>\n",
       "  </tbody>\n",
       "</table>\n",
       "</div>"
      ],
      "text/plain": [
       "   Year  Month  Day\n",
       "0  2020      4   13\n",
       "1  2020      5   16\n",
       "2  2020      8   20"
      ]
     },
     "execution_count": 14,
     "metadata": {},
     "output_type": "execute_result"
    }
   ],
   "source": [
    "data = [[2020, 4, 13], [2020, 5, 16], [2020, 8, 20]]\n",
    "df = pd.DataFrame(data,columns=['Year', 'Month', 'Day'])\n",
    "df"
   ]
  },
  {
   "cell_type": "code",
   "execution_count": 15,
   "id": "4bb94ca1",
   "metadata": {},
   "outputs": [
    {
     "data": {
      "text/plain": [
       "0   2020-04-13\n",
       "1   2020-05-16\n",
       "2   2020-08-20\n",
       "dtype: datetime64[ns]"
      ]
     },
     "execution_count": 15,
     "metadata": {},
     "output_type": "execute_result"
    }
   ],
   "source": [
    "pd.to_datetime(df)"
   ]
  },
  {
   "cell_type": "code",
   "execution_count": 16,
   "id": "3cc852a5",
   "metadata": {},
   "outputs": [
    {
     "data": {
      "text/plain": [
       "DatetimeIndex(['2020-09-13', '2020-08-12', '2020-08-04', '2020-09-05'], dtype='datetime64[ns]', freq=None)"
      ]
     },
     "execution_count": 16,
     "metadata": {},
     "output_type": "execute_result"
    }
   ],
   "source": [
    "pd.to_datetime(['2020-09-13', '2020-08-12', '2020-08-04', '2020-09-05'])"
   ]
  },
  {
   "cell_type": "code",
   "execution_count": 17,
   "id": "5fea9f90",
   "metadata": {},
   "outputs": [
    {
     "data": {
      "text/plain": [
       "DatetimeIndex(['2020-01-31', '2020-02-29', '2020-03-31', '2020-04-30',\n",
       "               '2020-05-31', '2020-06-30', '2020-07-31', '2020-08-31',\n",
       "               '2020-09-30', '2020-10-31'],\n",
       "              dtype='datetime64[ns]', freq='M')"
      ]
     },
     "execution_count": 17,
     "metadata": {},
     "output_type": "execute_result"
    }
   ],
   "source": [
    "pd.date_range(start='2020-01-10', periods=10, freq='M')"
   ]
  },
  {
   "cell_type": "code",
   "execution_count": 18,
   "id": "c37a6376",
   "metadata": {},
   "outputs": [
    {
     "data": {
      "text/plain": [
       "DatetimeIndex(['2020-01-10', '2020-01-16', '2020-01-22', '2020-01-28',\n",
       "               '2020-02-03', '2020-02-09', '2020-02-15', '2020-02-21',\n",
       "               '2020-02-27', '2020-03-04'],\n",
       "              dtype='datetime64[ns]', freq='6D')"
      ]
     },
     "execution_count": 18,
     "metadata": {},
     "output_type": "execute_result"
    }
   ],
   "source": [
    "pd.date_range(start='2020-01-10', periods=10, freq='6D')"
   ]
  },
  {
   "cell_type": "code",
   "execution_count": 19,
   "id": "1109b326",
   "metadata": {},
   "outputs": [
    {
     "data": {
      "text/plain": [
       "PeriodIndex(['2018-01', '2018-02', '2018-03', '2018-04', '2018-05', '2018-06',\n",
       "             '2018-07', '2018-08', '2018-09', '2018-10'],\n",
       "            dtype='period[M]')"
      ]
     },
     "execution_count": 19,
     "metadata": {},
     "output_type": "execute_result"
    }
   ],
   "source": [
    "pd.period_range('2018', periods=10, freq='M')"
   ]
  },
  {
   "cell_type": "code",
   "execution_count": 20,
   "id": "96ad1a3c",
   "metadata": {},
   "outputs": [
    {
     "data": {
      "text/plain": [
       "TimedeltaIndex(['0 days 00:00:00', '0 days 01:00:00', '0 days 02:00:00',\n",
       "                '0 days 03:00:00', '0 days 04:00:00', '0 days 05:00:00',\n",
       "                '0 days 06:00:00', '0 days 07:00:00', '0 days 08:00:00',\n",
       "                '0 days 09:00:00', '0 days 10:00:00', '0 days 11:00:00',\n",
       "                '0 days 12:00:00', '0 days 13:00:00', '0 days 14:00:00',\n",
       "                '0 days 15:00:00', '0 days 16:00:00', '0 days 17:00:00',\n",
       "                '0 days 18:00:00', '0 days 19:00:00', '0 days 20:00:00',\n",
       "                '0 days 21:00:00', '0 days 22:00:00', '0 days 23:00:00'],\n",
       "               dtype='timedelta64[ns]', freq='H')"
      ]
     },
     "execution_count": 20,
     "metadata": {},
     "output_type": "execute_result"
    }
   ],
   "source": [
    "pd.timedelta_range(start='0', periods=24, freq='H')"
   ]
  },
  {
   "cell_type": "code",
   "execution_count": 21,
   "id": "7a7ac6bc",
   "metadata": {},
   "outputs": [
    {
     "data": {
      "text/plain": [
       "True"
      ]
     },
     "execution_count": 21,
     "metadata": {},
     "output_type": "execute_result"
    }
   ],
   "source": [
    "dates = pd.date_range('2019-01-01','2019-01-10')\n",
    "dates.tz is None"
   ]
  },
  {
   "cell_type": "code",
   "execution_count": 23,
   "id": "4e669c50",
   "metadata": {},
   "outputs": [
    {
     "data": {
      "text/plain": [
       "<DstTzInfo 'Europe/Berlin' LMT+0:53:00 STD>"
      ]
     },
     "execution_count": 23,
     "metadata": {},
     "output_type": "execute_result"
    }
   ],
   "source": [
    "dates_lcz = dates.tz_localize('Europe/Berlin')\n",
    "dates_lcz.tz"
   ]
  },
  {
   "cell_type": "code",
   "execution_count": 24,
   "id": "90e109d1",
   "metadata": {},
   "outputs": [
    {
     "data": {
      "text/plain": [
       "DatetimeIndex(['2020-01-01 00:00:00-05:00', '2020-01-02 00:00:00-05:00',\n",
       "               '2020-01-03 00:00:00-05:00', '2020-01-04 00:00:00-05:00',\n",
       "               '2020-01-05 00:00:00-05:00'],\n",
       "              dtype='datetime64[ns, US/Eastern]', freq='D')"
      ]
     },
     "execution_count": 24,
     "metadata": {},
     "output_type": "execute_result"
    }
   ],
   "source": [
    "pd.date_range('2020-01-01', periods = 5, freq = 'D', tz='US/Eastern')"
   ]
  },
  {
   "cell_type": "code",
   "execution_count": 25,
   "id": "1d43e67c",
   "metadata": {},
   "outputs": [
    {
     "data": {
      "text/plain": [
       "DatetimeIndex(['2020-01-01', '2020-01-02', '2020-01-03', '2020-01-04',\n",
       "               '2020-01-05', '2020-01-06', '2020-01-07', '2020-01-08',\n",
       "               '2020-01-09', '2020-01-10'],\n",
       "              dtype='datetime64[ns]', freq='D')"
      ]
     },
     "execution_count": 25,
     "metadata": {},
     "output_type": "execute_result"
    }
   ],
   "source": [
    "A = pd.date_range('2020-01-01', periods=10, freq='D')\n",
    "A"
   ]
  },
  {
   "cell_type": "code",
   "execution_count": 26,
   "id": "d24496af",
   "metadata": {},
   "outputs": [
    {
     "data": {
      "text/plain": [
       "DatetimeIndex(['2020-01-08', '2020-01-09', '2020-01-10', '2020-01-11',\n",
       "               '2020-01-12', '2020-01-13', '2020-01-14', '2020-01-15',\n",
       "               '2020-01-16', '2020-01-17'],\n",
       "              dtype='datetime64[ns]', freq=None)"
      ]
     },
     "execution_count": 26,
     "metadata": {},
     "output_type": "execute_result"
    }
   ],
   "source": [
    "A + pd.offsets.Week()"
   ]
  },
  {
   "cell_type": "code",
   "execution_count": null,
   "id": "1878f0ea",
   "metadata": {},
   "outputs": [],
   "source": []
  }
 ],
 "metadata": {
  "kernelspec": {
   "display_name": "Python 3 (ipykernel)",
   "language": "python",
   "name": "python3"
  },
  "language_info": {
   "codemirror_mode": {
    "name": "ipython",
    "version": 3
   },
   "file_extension": ".py",
   "mimetype": "text/x-python",
   "name": "python",
   "nbconvert_exporter": "python",
   "pygments_lexer": "ipython3",
   "version": "3.9.13"
  }
 },
 "nbformat": 4,
 "nbformat_minor": 5
}
